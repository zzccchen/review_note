{
 "cells": [
  {
   "cell_type": "markdown",
   "metadata": {},
   "source": [
    "# Q8_KarmanVortexStreet\n",
    "\n",
    "可以尝试：扩大计算区域大小，调整 Reynolds 数使之不小于 100，观察产生卡门涡街时的 Reynolds 数大小。"
   ]
  },
  {
   "cell_type": "markdown",
   "metadata": {},
   "source": [
    "## 第一步：文献查阅"
   ]
  },
  {
   "cell_type": "markdown",
   "metadata": {},
   "source": [
    "卡门涡街（Kármán vortex street、von Kármán vortex sheet）。在流体中安置阻流体，在特定条件下会出现不稳定的边界层分离，阻流体下游的两侧，会产生两道非对称地排列的旋涡，其中一侧的旋涡循时针方向转动，另一旋涡则反方向旋转，这两排旋涡相互交错排列，各个旋涡和对面两个旋涡的中间点对齐，如街道两边的街灯般，这种现象，因匈牙利裔美国空气动力学家西奥多·冯·卡门最先从理论上阐明而得名卡门涡街。"
   ]
  },
  {
   "cell_type": "markdown",
   "metadata": {},
   "source": [
    "卡门涡街的形成同雷诺数 Re 有关。当 Re 为 $50-300$ 时，从物体上脱落的涡旋是有周期性规律的；当 $Re>300$ 时涡旋开始出现随机性脱落；随着 Re 的继续增大，涡旋脱落的随机性也增大，最后形成了湍流。"
   ]
  },
  {
   "cell_type": "markdown",
   "metadata": {},
   "source": [
    "卡门涡街形成的条件：对于在流体中的圆柱体雷诺数 $(47<Re<10^5)$ 。\n",
    "* 当雷诺数 $=30$ 时，圆柱体后的液体呈平陆状态；\n",
    "* 当雷诺数 $=40$ 时，圆柱体后的液体开始出现正弦式波动；\n",
    "* 当雷诺数 $=47$ 时，圆柱体后的液体，前端仍然呈正弦状，后端则逐渐脱离正弦波动；\n",
    "* 当雷诺数 $>47$ 时，圆柱体后的液体，出现卡门涡街\n",
    "* 当雷诺数在 $50$ 至 $85$ 之间，圆柱体后的液体压力，呈等振幅波动\n",
    "* 当雷诺数 $=185$ 时，圆柱体后的液体压力，呈非均匀振幅波动。$^{[1]}$"
   ]
  },
  {
   "cell_type": "markdown",
   "metadata": {},
   "source": [
    "卡门涡街起因流体流经阻流体时，流体从阻流体两侧剥离，形成交替的涡流。这种交替的涡流，使阻流体两侧流体的瞬间速度不同。流体速度不同，阻流体两侧受到的瞬间压力也不同，因此使阻流体发生振动。振动频率与流体速度成正比，与阻流体的正面宽度成反比。卡门涡街频率与流体速度和阻流体（旋涡发生体）宽度有如下关系 $^{[2]}$：\n",
    "\n",
    "$$f=SrV/d$$\n",
    "\n",
    "其中：\n",
    "\n",
    "* $f=$ 卡门涡街频率\n",
    "\n",
    "* $Sr=$ 斯特劳哈尔数$(~0.2)$\n",
    "\n",
    "* $V=$ 流体速度\n",
    "\n",
    "* $d=$ 阻流体迎面宽度"
   ]
  },
  {
   "cell_type": "markdown",
   "metadata": {},
   "source": [
    "参考文献：\n",
    "\n",
    "[1] Tritton D J . PhysicalFluidDynamics[M]. Van Nostrand Reinhold, 1977.\n",
    "\n",
    "[2] 林建忠．流体力学[M]．北京：清华大学出版社，2013：15-18，31．"
   ]
  },
  {
   "cell_type": "markdown",
   "metadata": {},
   "source": [
    "## 第二步：初始化相关参数"
   ]
  },
  {
   "cell_type": "markdown",
   "metadata": {},
   "source": [
    "由上文，我们知道，要使卡门涡街形成时，雷诺数需在 50 到 300 范围内\n",
    "\n",
    "又题目要求雷诺数不小于 100，因此设雷诺数为 220\n",
    "\n",
    "而上式 $f=SrV/d$ 表明阻流体迎面宽度 $d$ 越大，卡门涡街频率越低，在单位长度内看到的卡门涡街数量也越少\n",
    "\n",
    "因此需适当降低 $d$ 的大小"
   ]
  },
  {
   "cell_type": "code",
   "execution_count": 1,
   "metadata": {},
   "outputs": [],
   "source": [
    "%matplotlib inline"
   ]
  },
  {
   "cell_type": "code",
   "execution_count": 2,
   "metadata": {},
   "outputs": [],
   "source": [
    "# 导入相关库\n",
    "import numpy as np\n",
    "import matplotlib.pyplot as plt\n",
    "import matplotlib.animation as animation\n",
    "from matplotlib import cm"
   ]
  },
  {
   "cell_type": "code",
   "execution_count": 3,
   "metadata": {},
   "outputs": [],
   "source": [
    "maxIter = 16000  # 迭代次数\n",
    "nx = 200  # 横向网格数量\n",
    "ny = 90  # 纵向网格数量"
   ]
  },
  {
   "cell_type": "code",
   "execution_count": 4,
   "metadata": {},
   "outputs": [],
   "source": [
    "cx = nx/9  # 圆柱障碍中心横坐标\n",
    "cy = ny/2  # 圆柱障碍中心纵坐标\n",
    "r = ny/15  # 圆柱障碍半径\n",
    "\n",
    "# 圆柱障碍表达式\n",
    "obstacle = np.fromfunction(lambda x, y: (x-cx)**2+(y-cy)**2 < r**2, (nx, ny))"
   ]
  },
  {
   "cell_type": "code",
   "execution_count": null,
   "metadata": {},
   "outputs": [],
   "source": [
    "Re = 220.0  # 雷诺数\n",
    "uLB = 0.04  # 格子速度\n",
    "nulb = uLB*r/Re  # 黏度\n",
    "omega = 1.0 / (3.*nulb+0.5)  # 弛豫时间"
   ]
  },
  {
   "cell_type": "markdown",
   "metadata": {},
   "source": [
    "## 第三步：定义LBGK算法\n",
    "\n",
    "代码部分说明参见 Q7_LBflowsBGK"
   ]
  },
  {
   "cell_type": "code",
   "execution_count": null,
   "metadata": {},
   "outputs": [],
   "source": [
    "q = 9  # 离散速度数\n",
    "\n",
    "# 按顺序所对应的速度坐标，以 0 点为中心 [0, 0]\n",
    "# 坐标第一个参数表示列，第二个参数表示行\n",
    "c = np.array([[0, 0], [1, 0], [0, -1],\n",
    "              [-1, 0], [0, 1], [1, -1],\n",
    "              [-1, -1], [-1, 1], [1, 1]])"
   ]
  },
  {
   "cell_type": "code",
   "execution_count": null,
   "metadata": {},
   "outputs": [],
   "source": [
    "# 平衡态分布函数\n",
    "def equilibrium(rho, u):\n",
    "    cu = 3.0 * np.dot(c, u.transpose(1, 0, 2))\n",
    "    usqr = 3./2.*(u[0]**2+u[1]**2)\n",
    "    feq = np.zeros((q, nx, ny))\n",
    "    for i in range(q):\n",
    "        feq[i, :, :] = rho*t[i]*(1.+cu[i]+0.5*cu[i]**2-usqr)\n",
    "    return feq"
   ]
  },
  {
   "cell_type": "code",
   "execution_count": null,
   "metadata": {},
   "outputs": [],
   "source": [
    "# 权系数\n",
    "w1 = 4/9\n",
    "w2 = 1/9\n",
    "w3 = 1/36\n",
    "t = np.array([w1, w2, w2, w2, w2, w3, w3, w3, w3])"
   ]
  },
  {
   "cell_type": "code",
   "execution_count": null,
   "metadata": {},
   "outputs": [],
   "source": [
    "noslip = [0, 3, 4, 1, 2, 7, 8, 5, 6]"
   ]
  },
  {
   "cell_type": "code",
   "execution_count": null,
   "metadata": {},
   "outputs": [],
   "source": [
    "i1 = [3, 6, 7]  # 右边界\n",
    "i2 = [0, 2, 4]  # 中间\n",
    "i3 = [1, 5, 8]  # 左边界"
   ]
  },
  {
   "cell_type": "code",
   "execution_count": null,
   "metadata": {},
   "outputs": [],
   "source": [
    "# 速度入口\n",
    "vel = np.fromfunction(lambda d, x, y: (1-d)*uLB *\n",
    "                      (1.0+1e-4*np.sin(y/(ny-1.0)*2*np.pi)), (2, nx, ny))"
   ]
  },
  {
   "cell_type": "code",
   "execution_count": null,
   "metadata": {},
   "outputs": [],
   "source": [
    "def sumpop(fin):\n",
    "    # 计算宏观密度\n",
    "    return np.sum(fin, axis=0)"
   ]
  },
  {
   "cell_type": "code",
   "execution_count": null,
   "metadata": {},
   "outputs": [],
   "source": [
    "feq = equilibrium(1.0, vel)\n",
    "fin = feq.copy()"
   ]
  },
  {
   "cell_type": "markdown",
   "metadata": {},
   "source": [
    "## 第四步：启动循环并画图"
   ]
  },
  {
   "cell_type": "code",
   "execution_count": null,
   "metadata": {},
   "outputs": [],
   "source": [
    "for time in range(maxIter):\n",
    "    fin[i1, -1, :] = fin[i1, -2, :]  # 右边界流出处理\n",
    "    rho = sumpop(fin)  # 计算宏观密度和速度\n",
    "    u = np.dot(c.transpose(), fin.transpose((1, 0, 2)))/rho\n",
    "\n",
    "    # 左边界处理：从已知速度求解密度\n",
    "    u[:, 0, :] = vel[:, 0, :]\n",
    "    rho[0, :] = 1./(1.-u[0, 0, :]) * \\\n",
    "        (sumpop(fin[i2, 0, :])+2.*sumpop(fin[i1, 0, :]))\n",
    "    feq = equilibrium(rho, u)\n",
    "    \n",
    "    # Zou/He边界处理\n",
    "    fin[i3, 0, :] = feq[i3, 0, :]\n",
    "    fout = fin - omega * (fin - feq)  # 碰撞步骤\n",
    "    for i in range(q):\n",
    "        fout[i, obstacle] = fin[noslip[i], obstacle]\n",
    "    for i in range(q):  # 迁移步骤\n",
    "        fin[i, :, :] = np.roll(\n",
    "            np.roll(fout[i, :, :], c[i, 0], axis=0), c[i, 1], axis=1)"
   ]
  },
  {
   "cell_type": "code",
   "execution_count": null,
   "metadata": {},
   "outputs": [],
   "source": [
    "plt.figure(figsize=(50, 25))\n",
    "plt.imshow(np.sqrt(u[0]**2+u[1]**2).transpose(),\n",
    "           cmap=cm.Reds, interpolation='spline36')"
   ]
  }
 ],
 "metadata": {
  "kernelspec": {
   "display_name": "Python 3",
   "language": "python",
   "name": "python3"
  },
  "language_info": {
   "codemirror_mode": {
    "name": "ipython",
    "version": 3
   },
   "file_extension": ".py",
   "mimetype": "text/x-python",
   "name": "python",
   "nbconvert_exporter": "python",
   "pygments_lexer": "ipython3",
   "version": "3.6.3"
  }
 },
 "nbformat": 4,
 "nbformat_minor": 2
}
