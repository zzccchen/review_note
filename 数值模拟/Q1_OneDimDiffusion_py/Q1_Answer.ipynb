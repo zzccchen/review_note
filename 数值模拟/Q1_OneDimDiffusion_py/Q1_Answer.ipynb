{
 "cells": [
  {
   "cell_type": "markdown",
   "metadata": {},
   "source": [
    "# Q1_Answer\n",
    "\n",
    "运行 OneDimDiffusion.zip 中的程序，体会、理解和掌握有限差分和有限体积法的求解 1D 热传导方程的基本步骤"
   ]
  },
  {
   "cell_type": "markdown",
   "metadata": {},
   "source": [
    "* 第一步：初始化相关参数"
   ]
  },
  {
   "cell_type": "code",
   "execution_count": 1,
   "metadata": {},
   "outputs": [],
   "source": [
    "node_num = 60  # 定义网格数量为 60\n",
    "node_num_half = node_num // 2\n",
    "tlist_new = [36.8] * node_num  # 记录新温度\n",
    "tlist_old = [36.8] * node_num  # 记录旧温度\n",
    "tlist_new[0] = 100  # 左侧边界温度\n",
    "\n",
    "max_loops = 300000  # 迭代次数\n",
    "step_before_1w = 1000  # 迭代次数为 1w 前（含）步长\n",
    "step_after_1w = 10000  # 迭代次数为 1w 后步长\n",
    "loop_count = 0  # 迭代保存计数器"
   ]
  },
  {
   "cell_type": "code",
   "execution_count": 2,
   "metadata": {},
   "outputs": [],
   "source": [
    "delta_x = 0.5\n",
    "delta_t = 0.1\n",
    "alpha = 0.001\n",
    "alpha /= (delta_x * delta_x / delta_t)"
   ]
  },
  {
   "cell_type": "markdown",
   "metadata": {},
   "source": [
    "* 第二步：定义有限差分算法"
   ]
  },
  {
   "cell_type": "code",
   "execution_count": 3,
   "metadata": {},
   "outputs": [],
   "source": [
    "def thermal_conductivity(T_old):\n",
    "    for i in range(1, node_num-1):\n",
    "        tlist_new[i] = tlist_old[i] + alpha * \\\n",
    "            (tlist_old[i + 1] - 2 * tlist_old[i] + tlist_old[i - 1])\n",
    "    tlist_new[- 1] = tlist_new[- 2]\n",
    "    return tlist_new"
   ]
  },
  {
   "cell_type": "markdown",
   "metadata": {},
   "source": [
    "* 第三步：启动循环"
   ]
  },
  {
   "cell_type": "code",
   "execution_count": 4,
   "metadata": {},
   "outputs": [],
   "source": [
    "import plotly_express as px  # 导入绘图库"
   ]
  },
  {
   "cell_type": "code",
   "execution_count": 5,
   "metadata": {},
   "outputs": [],
   "source": [
    "thermal_data = []\n",
    "for loops in range(max_loops+1):\n",
    "    tlist_old = thermal_conductivity(tlist_old)\n",
    "    if loops % step_before_1w == 0:\n",
    "        if loops <= 10000 or loops % step_after_1w == 0:\n",
    "            thermal_data.extend(tlist_old[::2])  # 隔一采样\n",
    "            loop_count += 1"
   ]
  },
  {
   "cell_type": "markdown",
   "metadata": {},
   "source": [
    "* 第四步：数据处理"
   ]
  },
  {
   "cell_type": "code",
   "execution_count": 6,
   "metadata": {},
   "outputs": [],
   "source": [
    "from pandas import DataFrame"
   ]
  },
  {
   "cell_type": "code",
   "execution_count": 7,
   "metadata": {
    "scrolled": true
   },
   "outputs": [],
   "source": [
    "loop = []\n",
    "for i in range(loop_count):\n",
    "    if i <= 10:\n",
    "        loop.extend([i*step_before_1w]*node_num_half)\n",
    "    else:\n",
    "        loop.extend([(i-9)*step_after_1w]*node_num_half)\n",
    "\n",
    "data = {\"loop\": loop, \"x\": [i*2 for i in range(\n",
    "    node_num_half)]*(loop_count), \"temperature\": thermal_data}\n",
    "\n",
    "data_frame = DataFrame(data)"
   ]
  },
  {
   "cell_type": "markdown",
   "metadata": {},
   "source": [
    "* 第五步：绘图"
   ]
  },
  {
   "cell_type": "code",
   "execution_count": null,
   "metadata": {
    "scrolled": false
   },
   "outputs": [],
   "source": [
    "px.line(data_frame, x=\"x\", y=\"temperature\", animation_frame=\"loop\")"
   ]
  },
  {
   "cell_type": "code",
   "execution_count": null,
   "metadata": {},
   "outputs": [],
   "source": []
  }
 ],
 "metadata": {
  "kernelspec": {
   "display_name": "Python 3",
   "language": "python",
   "name": "python3"
  },
  "language_info": {
   "codemirror_mode": {
    "name": "ipython",
    "version": 3
   },
   "file_extension": ".py",
   "mimetype": "text/x-python",
   "name": "python",
   "nbconvert_exporter": "python",
   "pygments_lexer": "ipython3",
   "version": "3.6.3"
  }
 },
 "nbformat": 4,
 "nbformat_minor": 2
}
