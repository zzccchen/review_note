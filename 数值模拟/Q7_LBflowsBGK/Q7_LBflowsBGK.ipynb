{
 "cells": [
  {
   "cell_type": "markdown",
   "metadata": {},
   "source": [
    "# Q7_LBflowsBGK\n",
    "\n",
    "修改流场边界条件使之能够模拟如下图所示的圆柱绕流问题。提示：可先将程序中的方柱改为圆柱，然后将圆柱的大小和位置调整至适当数值，接下来调整流动的Reynolds数使流场中能够产生如图所示的涡旋。\n",
    "\n",
    "![涡旋示意图](https://s2.ax1x.com/2019/05/28/VmHGhq.jpg)"
   ]
  },
  {
   "cell_type": "markdown",
   "metadata": {},
   "source": [
    "## 第一步：初始化相关参数"
   ]
  },
  {
   "cell_type": "markdown",
   "metadata": {},
   "source": [
    "我们知道，当液体雷诺数小时作层流运动，雷诺数大时作湍流运动\n",
    "\n",
    "因此对于本题所需要的效果，适量高的雷诺数是必不可少的\n",
    "\n",
    "下图分别为雷诺数 10、100、500 的效果图，可以更好说明这点\n",
    "\n",
    "![不同雷诺数示意](https://s2.ax1x.com/2019/05/28/VmLxVe.jpg)\n",
    "\n",
    "可以看到雷诺数 100 最合题意"
   ]
  },
  {
   "cell_type": "code",
   "execution_count": 1,
   "metadata": {},
   "outputs": [],
   "source": [
    "# 导入相关库\n",
    "import numpy as np\n",
    "import matplotlib.pyplot as plt\n",
    "from matplotlib import cm\n",
    "%matplotlib inline"
   ]
  },
  {
   "cell_type": "code",
   "execution_count": 2,
   "metadata": {},
   "outputs": [],
   "source": [
    "maxIter = 2400  # 迭代次数\n",
    "nx = 120  # 横向网格数量\n",
    "ny = 80  # 纵向网格数量"
   ]
  },
  {
   "cell_type": "code",
   "execution_count": 3,
   "metadata": {},
   "outputs": [],
   "source": [
    "cx = nx/4  # 圆柱障碍中心横坐标\n",
    "cy = ny/2  # 圆柱障碍中心纵坐标\n",
    "r = ny/8  # 圆柱障碍半径\n",
    "\n",
    "# 圆柱障碍表达式\n",
    "obstacle = np.fromfunction(lambda x, y: (x-cx)**2+(y-cy)**2 < r**2, (nx, ny))"
   ]
  },
  {
   "cell_type": "markdown",
   "metadata": {},
   "source": [
    "注：*`numpy.fromfunction` 以函数式创建数组*"
   ]
  },
  {
   "cell_type": "code",
   "execution_count": 4,
   "metadata": {},
   "outputs": [],
   "source": [
    "Re = 100  # 雷诺数\n",
    "uLB = 0.04  # 格子速度\n",
    "nulb = uLB*r/Re  # 黏度\n",
    "omega = 1.0 / (3.*nulb+0.5)  # 弛豫时间"
   ]
  },
  {
   "cell_type": "markdown",
   "metadata": {},
   "source": [
    "## 第二步：定义LBGK算法"
   ]
  },
  {
   "cell_type": "markdown",
   "metadata": {},
   "source": [
    "对于二维问题的处理，通常可使用 D2Q7 及 D2Q9 模型，其示意图如下：\n",
    "\n",
    "![DnQb](https://s2.ax1x.com/2019/05/28/VmXYOf.png)\n",
    "\n",
    "本题处理采用了 D2Q9 模型，其中 2 为空间维数，9 是离散速度数"
   ]
  },
  {
   "cell_type": "code",
   "execution_count": 5,
   "metadata": {},
   "outputs": [],
   "source": [
    "q = 9  # 离散速度数\n",
    "\n",
    "# 按顺序所对应的速度坐标，以 0 点为中心 [0, 0]\n",
    "# 坐标第一个参数表示列，第二个参数表示行\n",
    "c = np.array([[0, 0], [1, 0], [0, -1],\n",
    "              [-1, 0], [0, 1], [1, -1],\n",
    "              [-1, -1], [-1, 1], [1, 1]])"
   ]
  },
  {
   "cell_type": "markdown",
   "metadata": {},
   "source": [
    "平衡分布函数：\n",
    "\n",
    "$$f_i^{eq}(x)=\\omega_i\\rho(x)[1+\\frac{e_i\\cdot u}{c_s^2}+\\frac{(e_i\\cdot u)^4}{2c_s^2}-\\frac{u^2}{2c_s^2}]$$\n",
    "\n",
    "其中，$\\omega_i$ 为权系数，$c_s=\\sqrt{RT}$ 为格子声速"
   ]
  },
  {
   "cell_type": "code",
   "execution_count": 6,
   "metadata": {},
   "outputs": [],
   "source": [
    "# 平衡态分布函数\n",
    "def equilibrium(rho, u):\n",
    "    cu = 3.0 * np.dot(c, u.transpose(1, 0, 2))\n",
    "    usqr = 3./2.*(u[0]**2+u[1]**2)\n",
    "    feq = np.zeros((q, nx, ny))\n",
    "    for i in range(q):\n",
    "        feq[i, :, :] = rho*t[i]*(1.+cu[i]+0.5*cu[i]**2-usqr)\n",
    "    return feq"
   ]
  },
  {
   "cell_type": "markdown",
   "metadata": {},
   "source": [
    "通过恰当的动量空间离散方法，宏观变量的积分计算形式可以转化为简单的代数形式：\n",
    "\n",
    "密度：\n",
    "\n",
    "$$\\rho=\\sum_i f_i = \\sum_i f_i^{eq}$$\n",
    "\n",
    "速度：\n",
    "\n",
    "$$\\rho u = \\sum_i \\xi_i f_i = \\sum_i \\xi_i f_i^{eq}$$\n",
    "\n",
    "内能：\n",
    "\n",
    "$$\\rho\\varepsilon=\\frac{1}{2}\\sum_i(\\xi_i-u)^2f_i=\\frac{1}{2}\\sum_i(\\xi_i-u)^2f_i^{eq}$$"
   ]
  },
  {
   "cell_type": "markdown",
   "metadata": {},
   "source": [
    "若上述的近似计算成立，需要满足两个守恒原则：\n",
    "\n",
    "$$f_i \\equiv f_i(x,t) \\equiv W_if(x,e_i,t)$$\n",
    "\n",
    "$$f_i^{eq} \\equiv f_i^{eq}(x,t) \\equiv W_if^{eq}(x,e_i,t)$$\n",
    "\n",
    "$W_i$ 为权重系数，$e_i$ 为离散速度"
   ]
  },
  {
   "cell_type": "markdown",
   "metadata": {},
   "source": [
    "转化成含有高斯积分公式计算的一般形式：\n",
    "\n",
    "$$I=\\int{exp(-\\frac{\\xi^2}{2RT})\\psi(\\xi)d\\xi}=\\sum_i W_iexp(-\\frac{\\xi^2}{2RT})\\psi(\\xi_i)$$\n",
    "\n",
    "对于二阶的 $\\psi(\\xi)$，需要采用三阶 Gauss-Hermite 求积公式\n",
    "\n",
    "$$I_m=\\sum_{j=1}^3\\omega_j\\zeta_j^m$$\n",
    "\n",
    "积分点：$\\xi_1=-\\sqrt{3/2},\\xi_2=0,\\xi_3=\\sqrt{3/2}$\n",
    "\n",
    "权系数：$\\omega1=\\sqrt\\pi/6,\\omega2=2\\sqrt\\pi/3,\\omega3=\\sqrt\\pi/6$"
   ]
  },
  {
   "cell_type": "markdown",
   "metadata": {},
   "source": [
    "等温情况时：$c=\\sqrt{3RT}$，且 $c_s^2 = c^2/3 = RT$\n",
    "\n",
    "得 $c_s= 1/\\sqrt 3$"
   ]
  },
  {
   "cell_type": "markdown",
   "metadata": {},
   "source": [
    "则权系数：\n",
    "\n",
    "$$\\omega_i = \\frac{\\omega_2 \\omega_2}{\\pi}=\\frac{4}{9} \\cdots\\cdots i=0$$\n",
    "$$\\omega_i = \\frac{\\omega_1 \\omega_2}{\\pi},\\frac{\\omega_2 \\omega_1}{\\pi},\\frac{\\omega_3 \\omega_2}{\\pi},\\frac{\\omega_2 \\omega_3}{\\pi}=\\frac{1}{9} \\cdots\\cdots i=1,2,3,4$$\n",
    "$$\\omega_i = \\frac{\\omega_1 \\omega_3}{\\pi},\\frac{\\omega_3 \\omega_1}{\\pi},\\frac{\\omega_1 \\omega_1}{\\pi},\\frac{\\omega_3 \\omega_3}{\\pi}=\\frac{1}{36} \\cdots\\cdots i=5,6,7,8$$"
   ]
  },
  {
   "cell_type": "code",
   "execution_count": 7,
   "metadata": {},
   "outputs": [],
   "source": [
    "# 权系数\n",
    "w1 = 4/9\n",
    "w2 = 1/9\n",
    "w3 = 1/36\n",
    "t = np.array([w1, w2, w2, w2, w2, w3, w3, w3, w3])"
   ]
  },
  {
   "cell_type": "markdown",
   "metadata": {},
   "source": [
    "对于静止固体边界，常用的处理方法是对边界上的粒子进行弹回处理，即假设粒子与壁面碰撞后沿粒子原方向的反方向逆转，即：\n",
    "\n",
    "$$f_{2,5,6}(i,1)=f_{4,7,8}(i,1)$$\n",
    "\n",
    "在图上表示可见下左图：\n",
    "\n",
    "![碰撞及边界](https://s2.ax1x.com/2019/05/29/VnutTe.jpg)\n",
    "\n",
    "按原顺序 [0, 1, 2, ...] 读取的新顺序则为 [0, 3, 4, 1, 2, 7, 8, 5, 6]"
   ]
  },
  {
   "cell_type": "code",
   "execution_count": 8,
   "metadata": {},
   "outputs": [],
   "source": [
    "noslip = [0, 3, 4, 1, 2, 7, 8, 5, 6]"
   ]
  },
  {
   "cell_type": "markdown",
   "metadata": {},
   "source": [
    "1997年，Zou 与 He 给出了另外一种补充条件：假设分布函数的非平衡部分在垂直于边界的方向上仍然满足反弹格式，需满足以下四个方程：\n",
    "\n",
    "$$\\begin{cases}\n",
    "\\rho=\\sum_\\alpha f_\\alpha\\\\\n",
    "u_0=\\frac{1}{\\rho}\\sum_\\alpha f_\\alpha e_\\alpha\\\\\n",
    "0=f_1-f_3+f_5-f_6-f_7+f_8\\\\\n",
    "\\rho v_0=f_2-f_4+f_5+f_6-f_7-f_8\\\\\n",
    "\\end{cases}\n",
    "$$\n",
    "\n",
    "可得：\n",
    "\n",
    "$$f_2-f_2^{eq}=f_4-f_4^{eq}$$"
   ]
  },
  {
   "cell_type": "code",
   "execution_count": 9,
   "metadata": {},
   "outputs": [],
   "source": [
    "i1 = [3, 6, 7]  # 右边界\n",
    "i2 = [0, 2, 4]  # 中间\n",
    "i3 = [1, 5, 8]  # 左边界"
   ]
  },
  {
   "cell_type": "code",
   "execution_count": 10,
   "metadata": {
    "scrolled": true
   },
   "outputs": [],
   "source": [
    "###### Setup: 带有扰动的圆柱形障碍物和速度入口 ########\n",
    "vel = np.fromfunction(lambda d, x, y: (1-d)*uLB *\n",
    "                      (1.0+1e-4*np.sin(y/(ny-1.0)*2*np.pi)), (2, nx, ny))"
   ]
  },
  {
   "cell_type": "markdown",
   "metadata": {},
   "source": [
    "宏观量：\n",
    "\n",
    "$$\\rho=\\sum_{\\alpha=0}^{\\alpha_{max}}f_{\\alpha}, \\rho\\vec u=\\sum_{\\alpha=0}^{\\alpha_{max}}f_{\\alpha}\\vec e_{\\alpha}$$"
   ]
  },
  {
   "cell_type": "code",
   "execution_count": 11,
   "metadata": {},
   "outputs": [],
   "source": [
    "def sumpop(fin):\n",
    "    # 计算宏观密度\n",
    "    return np.sum(fin, axis=0)"
   ]
  },
  {
   "cell_type": "markdown",
   "metadata": {},
   "source": [
    "## 第三步：启动循环"
   ]
  },
  {
   "cell_type": "markdown",
   "metadata": {},
   "source": [
    "对于无外力作用的单松弛（LBGK）模型：\n",
    "\n",
    "$$f_\\alpha(x+e_\\alpha\\Delta t,t+1)=f_\\alpha(x,t)-\\frac{[f_\\alpha^{eq}(x,t)-f_\\alpha(x,t)]}{\\tau}$$\n",
    "\n",
    "碰撞-迁移结构\n",
    "\n",
    "1. 初始化分布函数 $f_\\alpha(x,t)$\n",
    "\n",
    "2. 在时刻 $t$ 执行碰撞（Collision）\n",
    "\n",
    "3. 执行迁移（Streaming）\n",
    "\n",
    "4. 边界处理\n",
    "\n",
    "5. 计算宏观量 $\\rho,\\rho\\vec u$"
   ]
  },
  {
   "cell_type": "code",
   "execution_count": 12,
   "metadata": {},
   "outputs": [],
   "source": [
    "feq = equilibrium(1.0, vel)\n",
    "fin = feq.copy()"
   ]
  },
  {
   "cell_type": "code",
   "execution_count": 13,
   "metadata": {},
   "outputs": [],
   "source": [
    "for time in range(maxIter):\n",
    "    fin[i1, -1, :] = fin[i1, -2, :]  # 右边界流出处理\n",
    "    rho = sumpop(fin)  # 计算宏观密度和速度\n",
    "    u = np.dot(c.transpose(), fin.transpose((1, 0, 2)))/rho\n",
    "\n",
    "    # 左边界处理：从已知速度求解密度\n",
    "    u[:, 0, :] = vel[:, 0, :]\n",
    "    rho[0, :] = 1./(1.-u[0, 0, :]) * \\\n",
    "        (sumpop(fin[i2, 0, :])+2.*sumpop(fin[i1, 0, :]))\n",
    "\n",
    "    feq = equilibrium(rho, u)  # 左边界处理：Zou/He边界处理\n",
    "    fin[i3, 0, :] = fin[i1, 0, :] + feq[i3, 0, :] - feq[i1, 0, :]\n",
    "    fout = fin - omega * (fin - feq)  # 碰撞步骤\n",
    "    for i in range(q):\n",
    "        fout[i, obstacle] = fin[noslip[i], obstacle]\n",
    "    for i in range(q):  # 迁移步骤\n",
    "        fin[i, :, :] = np.roll(\n",
    "            np.roll(fout[i, :, :], c[i, 0], axis=0), c[i, 1], axis=1)"
   ]
  },
  {
   "cell_type": "markdown",
   "metadata": {},
   "source": [
    "## 第四步：绘图"
   ]
  },
  {
   "cell_type": "code",
   "execution_count": 14,
   "metadata": {},
   "outputs": [
    {
     "data": {
      "text/plain": [
       "[<matplotlib.lines.Line2D at 0x26c8bd7ef98>]"
      ]
     },
     "execution_count": 14,
     "metadata": {},
     "output_type": "execute_result"
    },
    {
     "data": {
      "image/png": "[encoded data removed]",
      "text/plain": [
       "<Figure size 432x288 with 1 Axes>"
      ]
     },
     "metadata": {
      "needs_background": "light"
     },
     "output_type": "display_data"
    }
   ],
   "source": [
    "plt.clf()\n",
    "plt.imshow(np.sqrt(u[0]**2+u[1]**2).transpose(), cmap=cm.Reds)\n",
    "plt.plot(\"vel.\"+str(time/100).zfill(4)+\".png\")"
   ]
  }
 ],
 "metadata": {
  "kernelspec": {
   "display_name": "Python 3",
   "language": "python",
   "name": "python3"
  },
  "language_info": {
   "codemirror_mode": {
    "name": "ipython",
    "version": 3
   },
   "file_extension": ".py",
   "mimetype": "text/x-python",
   "name": "python",
   "nbconvert_exporter": "python",
   "pygments_lexer": "ipython3",
   "version": "3.6.3"
  }
 },
 "nbformat": 4,
 "nbformat_minor": 2
}
