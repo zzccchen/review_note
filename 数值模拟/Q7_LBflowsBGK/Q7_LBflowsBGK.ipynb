{
 "cells": [
  {
   "cell_type": "code",
   "execution_count": 8,
   "metadata": {},
   "outputs": [],
   "source": [
    "import numpy as np\n",
    "import matplotlib.pyplot as plt\n",
    "from matplotlib import cm\n",
    "%matplotlib inline"
   ]
  },
  {
   "cell_type": "code",
   "execution_count": 9,
   "metadata": {},
   "outputs": [],
   "source": [
    "maxIter = 20  # 迭代次数\n",
    "Re = 100  # 雷诺数\n",
    "nx = 120  # 横向网格数量\n",
    "ny = 80  # 纵向网格数量\n",
    "ly = ny-1.0\n",
    "q = 9  # Lattice dimensions and populations 格子维度\n",
    "cx = nx/4  # 圆形障碍中心横坐标\n",
    "cy = ny/2  # 圆形障碍中心纵坐标\n",
    "r = ny/9  # Coordinates of the cylinder.\n",
    "uLB = 0.04  # Velocity in lattice units.\n",
    "nulb = uLB*r/Re\n",
    "omega = 1.0 / (3.*nulb+0.5)  # 弛豫时间"
   ]
  },
  {
   "cell_type": "code",
   "execution_count": 10,
   "metadata": {},
   "outputs": [],
   "source": [
    "###### Lattice Constants #######################################################\n",
    "# Lattice velocities.\n",
    "# D2Q9 模型\n",
    "c = np.array([[0, 0], [1, 0], [0, -1],\n",
    "           [-1, 0], [0, 1], [1, -1],\n",
    "           [-1, -1], [-1, 1], [1, 1]])"
   ]
  },
  {
   "cell_type": "code",
   "execution_count": 11,
   "metadata": {},
   "outputs": [],
   "source": [
    "# Lattice weights\n",
    "t = np.array([0.44444444, 0.11111111, 0.11111111, 0.11111111, 0.11111111,\n",
    "  0.02777778, 0.02777778,0.02777778, 0.02777778])"
   ]
  },
  {
   "cell_type": "code",
   "execution_count": 12,
   "metadata": {},
   "outputs": [],
   "source": [
    "noslip = [0, 3, 4, 1, 2, 7, 8, 5, 6]"
   ]
  },
  {
   "cell_type": "code",
   "execution_count": 13,
   "metadata": {},
   "outputs": [],
   "source": [
    "i1 = [3, 6, 7]  # right wall.\n",
    "i2 = [0, 2, 4]  # middle.\n",
    "i3 = [1, 5, 8]  # left wall."
   ]
  },
  {
   "cell_type": "code",
   "execution_count": 14,
   "metadata": {},
   "outputs": [
    {
     "data": {
      "text/plain": [
       "[<matplotlib.lines.Line2D at 0x2d8c57d7390>]"
      ]
     },
     "execution_count": 14,
     "metadata": {},
     "output_type": "execute_result"
    },
    {
     "data": {
      "image/png": "[encoded data removed]",
      "text/plain": [
       "<Figure size 432x288 with 1 Axes>"
      ]
     },
     "metadata": {
      "needs_background": "light"
     },
     "output_type": "display_data"
    }
   ],
   "source": [
    "###### Function Definitions ####################################################\n",
    "# 用于密度计算的辅助函数\n",
    "\n",
    "\n",
    "\n",
    "def sumpop(fin): return np.sum(fin, axis=0)\n",
    "\n",
    "# 平衡态分布函数\n",
    "def equilibrium(rho, u): \n",
    "    cu = 3.0 * np.dot(c, u.transpose(1, 0, 2))\n",
    "    usqr = 3./2.*(u[0]**2+u[1]**2)\n",
    "    feq = np.zeros((q, nx, ny))\n",
    "    for i in range(q):\n",
    "        feq[i, :, :] = rho*t[i]*(1.+cu[i]+0.5*cu[i]**2-usqr)\n",
    "    return feq\n",
    "\n",
    "\n",
    "###### Setup: 带有扰动的圆柱形障碍物和速度入口 ########\n",
    "# 圆形障碍表达式\n",
    "obstacle = np.fromfunction(lambda x, y: (x-cx)**2+(y-cy)**2 < r**2, (nx, ny))\n",
    "vel = np.fromfunction(lambda d, x, y: (1-d)*uLB *\n",
    "                   (1.0+1e-4*np.sin(y/ly*2*np.pi)), (2, nx, ny))\n",
    "feq = equilibrium(1.0, vel)\n",
    "fin = feq.copy()\n",
    "\n",
    "###### Main loop ##########################################################\n",
    "\n",
    "for time in range(maxIter):\n",
    "    fin[i1, -1, :] = fin[i1, -2, :]  # 右边界流出处理\n",
    "    rho = sumpop(fin)  # 计算宏观密度和速度\n",
    "    u = np.dot(c.transpose(), fin.transpose((1, 0, 2)))/rho\n",
    "\n",
    "    # 左边界处理：从已知速度求解密度\n",
    "    u[:, 0, :] = vel[:, 0, :]\n",
    "    rho[0, :] = 1./(1.-u[0, 0, :]) * \\\n",
    "        (sumpop(fin[i2, 0, :])+2.*sumpop(fin[i1, 0, :]))\n",
    "\n",
    "    feq = equilibrium(rho, u)  # 左边界处理：Zou/He边界处理\n",
    "    fin[i3, 0, :] = fin[i1, 0, :] + feq[i3, 0, :] - fin[i1, 0, :]\n",
    "    fout = fin - omega * (fin - feq)  # 碰撞步骤\n",
    "    for i in range(q):\n",
    "        fout[i, obstacle] = fin[noslip[i], obstacle]\n",
    "    for i in range(q):  # Streaming step.\n",
    "        fin[i, :, :] = np.roll(\n",
    "                np.roll(fout[i, :, :], c[i, 0], axis=0), c[i, 1], axis=1)\n",
    "\n",
    "\n",
    "\n",
    "\n",
    "\n",
    "plt.clf()\n",
    "plt.imshow(np.sqrt(u[0]**2+u[1]**2).transpose(), cmap=cm.Reds)\n",
    "plt.plot(\"vel.\"+str(time/100).zfill(4)+\".png\")"
   ]
  },
  {
   "cell_type": "code",
   "execution_count": null,
   "metadata": {},
   "outputs": [],
   "source": []
  },
  {
   "cell_type": "code",
   "execution_count": null,
   "metadata": {},
   "outputs": [],
   "source": []
  }
 ],
 "metadata": {
  "kernelspec": {
   "display_name": "Python 3",
   "language": "python",
   "name": "python3"
  },
  "language_info": {
   "codemirror_mode": {
    "name": "ipython",
    "version": 3
   },
   "file_extension": ".py",
   "mimetype": "text/x-python",
   "name": "python",
   "nbconvert_exporter": "python",
   "pygments_lexer": "ipython3",
   "version": "3.6.3"
  }
 },
 "nbformat": 4,
 "nbformat_minor": 2
}
