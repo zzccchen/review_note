{
 "cells": [
  {
   "cell_type": "markdown",
   "metadata": {},
   "source": [
    "# Q7_LBflowsBGK\n",
    "\n",
    "修改流场边界条件使之能够模拟如下图所示的圆柱绕流问题。提示：可先将程序中的方柱改为圆柱，然后将圆柱的大小和位置调整至适当数值，接下来调整流动的Reynolds数使流场中能够产生如图所示的涡旋。\n",
    "\n",
    "![涡旋示意图](https://s2.ax1x.com/2019/05/28/VmHGhq.jpg)"
   ]
  },
  {
   "cell_type": "markdown",
   "metadata": {},
   "source": [
    "## 第一步：初始化相关参数"
   ]
  },
  {
   "cell_type": "markdown",
   "metadata": {},
   "source": [
    "我们知道，当液体雷诺数小时作层流运动，雷诺数大时作湍流运动\n",
    "\n",
    "因此对于本题所需要的效果，适量高的雷诺数是必不可少的\n",
    "\n",
    "下图为雷诺数为 10 的效果图，可以更好说明这点\n",
    "\n",
    "![雷诺数10的效果图](https://s2.ax1x.com/2019/05/28/Vmb9Cq.png)"
   ]
  },
  {
   "cell_type": "code",
   "execution_count": 1,
   "metadata": {},
   "outputs": [],
   "source": [
    "# 导入相关库\n",
    "import numpy as np\n",
    "import matplotlib.pyplot as plt\n",
    "from matplotlib import cm\n",
    "%matplotlib inline"
   ]
  },
  {
   "cell_type": "code",
   "execution_count": 2,
   "metadata": {},
   "outputs": [],
   "source": [
    "maxIter = 2400  # 迭代次数\n",
    "Re = 100  # 雷诺数\n",
    "nx = 120  # 横向网格数量\n",
    "ny = 80  # 纵向网格数量\n",
    "ly = ny-1.0"
   ]
  },
  {
   "cell_type": "code",
   "execution_count": 3,
   "metadata": {},
   "outputs": [],
   "source": [
    "# 圆形障碍表达式\n",
    "cx = nx/4  # 圆形障碍中心横坐标\n",
    "cy = ny/2  # 圆形障碍中心纵坐标\n",
    "r = ny/8  # Coordinates of the cylinder.\n",
    "obstacle = np.fromfunction(lambda x, y: (x-cx)**2+(y-cy)**2 < r**2, (nx, ny))"
   ]
  },
  {
   "cell_type": "code",
   "execution_count": 4,
   "metadata": {},
   "outputs": [],
   "source": [
    "uLB = 0.04  # Velocity in lattice units.\n",
    "nulb = uLB*r/Re\n",
    "omega = 1.0 / (3.*nulb+0.5)  # 弛豫时间"
   ]
  },
  {
   "cell_type": "code",
   "execution_count": 5,
   "metadata": {},
   "outputs": [],
   "source": [
    "###### Lattice Constants #######################################################\n",
    "# Lattice velocities.\n",
    "# D2Q9 模型\n",
    "q = 9  # Lattice dimensions and populations 格子维度\n",
    "c = np.array([[0, 0], [1, 0], [0, -1],\n",
    "              [-1, 0], [0, 1], [1, -1],\n",
    "              [-1, -1], [-1, 1], [1, 1]])"
   ]
  },
  {
   "cell_type": "code",
   "execution_count": 6,
   "metadata": {},
   "outputs": [],
   "source": [
    "# Lattice weights\n",
    "t = np.array([0.44444444, 0.11111111, 0.11111111, 0.11111111, 0.11111111,\n",
    "              0.02777778, 0.02777778, 0.02777778, 0.02777778])"
   ]
  },
  {
   "cell_type": "code",
   "execution_count": 7,
   "metadata": {},
   "outputs": [],
   "source": [
    "noslip = [0, 3, 4, 1, 2, 7, 8, 5, 6]"
   ]
  },
  {
   "cell_type": "code",
   "execution_count": 8,
   "metadata": {},
   "outputs": [],
   "source": [
    "i1 = [3, 6, 7]  # right wall.\n",
    "i2 = [0, 2, 4]  # middle.\n",
    "i3 = [1, 5, 8]  # left wall."
   ]
  },
  {
   "cell_type": "code",
   "execution_count": 9,
   "metadata": {
    "scrolled": true
   },
   "outputs": [],
   "source": [
    "###### Setup: 带有扰动的圆柱形障碍物和速度入口 ########\n",
    "vel = np.fromfunction(lambda d, x, y: (1-d)*uLB *\n",
    "                      (1.0+1e-4*np.sin(y/ly*2*np.pi)), (2, nx, ny))"
   ]
  },
  {
   "cell_type": "code",
   "execution_count": 10,
   "metadata": {},
   "outputs": [],
   "source": [
    "def sumpop(fin):\n",
    "    # 用于密度计算的辅助函数\n",
    "    return np.sum(fin, axis=0)\n",
    "\n",
    "\n",
    "def equilibrium(rho, u):\n",
    "    # 平衡态分布函数\n",
    "    cu = 3.0 * np.dot(c, u.transpose(1, 0, 2))\n",
    "    usqr = 3./2.*(u[0]**2+u[1]**2)\n",
    "    feq = np.zeros((q, nx, ny))\n",
    "    for i in range(q):\n",
    "        feq[i, :, :] = rho*t[i]*(1.+cu[i]+0.5*cu[i]**2-usqr)\n",
    "    return feq"
   ]
  },
  {
   "cell_type": "code",
   "execution_count": 11,
   "metadata": {},
   "outputs": [],
   "source": [
    "feq = equilibrium(1.0, vel)\n",
    "fin = feq.copy()"
   ]
  },
  {
   "cell_type": "code",
   "execution_count": 12,
   "metadata": {},
   "outputs": [],
   "source": [
    "for time in range(maxIter):\n",
    "    fin[i1, -1, :] = fin[i1, -2, :]  # 右边界流出处理\n",
    "    rho = sumpop(fin)  # 计算宏观密度和速度\n",
    "    u = np.dot(c.transpose(), fin.transpose((1, 0, 2)))/rho\n",
    "\n",
    "    # 左边界处理：从已知速度求解密度\n",
    "    u[:, 0, :] = vel[:, 0, :]\n",
    "    rho[0, :] = 1./(1.-u[0, 0, :]) * \\\n",
    "        (sumpop(fin[i2, 0, :])+2.*sumpop(fin[i1, 0, :]))\n",
    "\n",
    "    feq = equilibrium(rho, u)  # 左边界处理：Zou/He边界处理\n",
    "    fin[i3, 0, :] = fin[i1, 0, :] + feq[i3, 0, :] - fin[i1, 0, :]\n",
    "    fout = fin - omega * (fin - feq)  # 碰撞步骤\n",
    "    for i in range(q):\n",
    "        fout[i, obstacle] = fin[noslip[i], obstacle]\n",
    "    for i in range(q):  # Streaming step.\n",
    "        fin[i, :, :] = np.roll(\n",
    "            np.roll(fout[i, :, :], c[i, 0], axis=0), c[i, 1], axis=1)"
   ]
  },
  {
   "cell_type": "code",
   "execution_count": 13,
   "metadata": {},
   "outputs": [
    {
     "data": {
      "text/plain": [
       "[<matplotlib.lines.Line2D at 0x1887441ee48>]"
      ]
     },
     "execution_count": 13,
     "metadata": {},
     "output_type": "execute_result"
    },
    {
     "data": {
      "image/png": "[encoded data removed]",
      "text/plain": [
       "<Figure size 432x288 with 1 Axes>"
      ]
     },
     "metadata": {
      "needs_background": "light"
     },
     "output_type": "display_data"
    }
   ],
   "source": [
    "plt.clf()\n",
    "plt.imshow(np.sqrt(u[0]**2+u[1]**2).transpose(), cmap=cm.Reds)\n",
    "plt.plot(\"vel.\"+str(time/100).zfill(4)+\".png\")"
   ]
  }
 ],
 "metadata": {
  "kernelspec": {
   "display_name": "Python 3",
   "language": "python",
   "name": "python3"
  },
  "language_info": {
   "codemirror_mode": {
    "name": "ipython",
    "version": 3
   },
   "file_extension": ".py",
   "mimetype": "text/x-python",
   "name": "python",
   "nbconvert_exporter": "python",
   "pygments_lexer": "ipython3",
   "version": "3.6.3"
  }
 },
 "nbformat": 4,
 "nbformat_minor": 2
}
